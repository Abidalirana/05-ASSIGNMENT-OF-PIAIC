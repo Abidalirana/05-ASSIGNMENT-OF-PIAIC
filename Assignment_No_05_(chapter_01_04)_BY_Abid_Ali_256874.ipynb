{
  "nbformat": 4,
  "nbformat_minor": 0,
  "metadata": {
    "colab": {
      "provenance": []
    },
    "kernelspec": {
      "name": "python3",
      "display_name": "Python 3"
    },
    "language_info": {
      "name": "python"
    }
  },
  "cells": [
    {
      "cell_type": "markdown",
      "source": [
        "# Question 01.\n",
        "# Palindrome Check\n",
        "Write a program that takes a string input from the user and prints whether it is a palindrome (a string that reads the same forwards and backwards). Test the code with twi cases one where the input string is a palindrome and the other where it is not a palindrome."
      ],
      "metadata": {
        "id": "DaDtsCcZ9b0i"
      }
    },
    {
      "cell_type": "markdown",
      "source": [
        "# Case With Palindrome Strings."
      ],
      "metadata": {
        "id": "KRwvukDuC_Vv"
      }
    },
    {
      "cell_type": "code",
      "source": [
        "word = input(\"Type a word: \")                                 # 1. Ask the user for a word\n",
        "reversed_word = \"\"                                           # 2. Reverse the word using a loop\n",
        "\n",
        "for i in range(len(word) - 1, -1, -1):\n",
        "    reversed_word = reversed_word + word[i]\n",
        "\n",
        "print(\"Original word:\", word)                                ## 3. Show both original and reversed words\n",
        "print(\"Reversed word:\", reversed_word)\n",
        "# Now you can compare them by looking at the result. # If both are same, it's a palindrome."
      ],
      "metadata": {
        "colab": {
          "base_uri": "https://localhost:8080/"
        },
        "id": "Y2vGbOJVDAqX",
        "outputId": "c7be70c5-c698-493f-a5be-59c67ceeb3da"
      },
      "execution_count": null,
      "outputs": [
        {
          "output_type": "stream",
          "name": "stdout",
          "text": [
            "Type a word: madam\n",
            "Original word: madam\n",
            "Reversed word: madam\n"
          ]
        }
      ]
    },
    {
      "cell_type": "markdown",
      "source": [
        "# Case With No Palindrome Strings."
      ],
      "metadata": {
        "id": "BGM1qLytEb8_"
      }
    },
    {
      "cell_type": "code",
      "source": [
        "word = input(\"Enter a word: \")          # Ask user to type a word\n",
        "\n",
        "reversed_word = \"\"                     # Reverse the word using a loop\n",
        "for i in range(len(word) - 1, -1, -1):\n",
        "    reversed_word = reversed_word + word[i]\n",
        "\n",
        "# Print original and reversed word\n",
        "print(\"Original word:\", word)\n",
        "print(\"Reversed word:\", reversed_word)\n"
      ],
      "metadata": {
        "colab": {
          "base_uri": "https://localhost:8080/"
        },
        "id": "Fkonuid-EjHi",
        "outputId": "7073cd1a-fb71-4d58-90ed-cda44355369a"
      },
      "execution_count": null,
      "outputs": [
        {
          "output_type": "stream",
          "name": "stdout",
          "text": [
            "Enter a word: hello\n",
            "Original word: hello\n",
            "Reversed word: olleh\n"
          ]
        }
      ]
    },
    {
      "cell_type": "markdown",
      "source": [
        "# Question 02.\n",
        "# Formatted Table\n",
        "Create a list of tuples where each tuple contains an item name (string) and its price (float).\n",
        "\n",
        "First print the list and then Use a for loop to print each item and its price along with serial number, aligned using the tab escape character."
      ],
      "metadata": {
        "id": "RUKZnksR9ahL"
      }
    },
    {
      "cell_type": "code",
      "source": [
        "item_list = [(\"Ali\", 2.5), (\"Bread\", 1.0), (\"Milk\", 1.5), (\"Eggs\", 3.0)]         # Creating a list of tuples (item_name, price)\n",
        "print(item_list)"
      ],
      "metadata": {
        "colab": {
          "base_uri": "https://localhost:8080/"
        },
        "id": "gPORt6JGc7sN",
        "outputId": "8af5984e-0364-42b7-eb9b-6e45d66f1513"
      },
      "execution_count": null,
      "outputs": [
        {
          "output_type": "stream",
          "name": "stdout",
          "text": [
            "[('Ali', 2.5), ('Bread', 1.0), ('Milk', 1.5), ('Eggs', 3.0)]\n"
          ]
        }
      ]
    },
    {
      "cell_type": "code",
      "source": [
        "print(\"\\nFormatted Output:\")                                                   # Printing each item with serial number using tab alignment\n",
        "print(\"S.No\\tItem\\tPrice\")\n",
        "for index, (item, price) in enumerate(item_list, start=1):\n",
        "    print(f\"{index}\\t{item}\\t{price}\")"
      ],
      "metadata": {
        "colab": {
          "base_uri": "https://localhost:8080/"
        },
        "id": "6hkYwdmDduNl",
        "outputId": "e6477f75-4cf3-434f-8eae-18a7afd5a2b0"
      },
      "execution_count": null,
      "outputs": [
        {
          "output_type": "stream",
          "name": "stdout",
          "text": [
            "\n",
            "Formatted Output:\n",
            "S.No\tItem\tPrice\n",
            "1\tAli\t2.5\n",
            "2\tBread\t1.0\n",
            "3\tMilk\t1.5\n",
            "4\tEggs\t3.0\n"
          ]
        }
      ]
    },
    {
      "cell_type": "markdown",
      "source": [
        "# Question 03.\n",
        "# Vowel Counter\n",
        "Given a string sentence, write a program that counts and print how many vowels it contains.\n",
        "\n",
        "print the original string\n",
        "\n",
        "print the count of vowels"
      ],
      "metadata": {
        "id": "lKBdW8c2sgL7"
      }
    },
    {
      "cell_type": "code",
      "source": [
        "name= \"my name is abid ali\"\n",
        "print(\"original string:\",name)"
      ],
      "metadata": {
        "colab": {
          "base_uri": "https://localhost:8080/"
        },
        "id": "UfBKipyHs0N5",
        "outputId": "08e43f04-7249-46fd-e221-da69a3812b73"
      },
      "execution_count": null,
      "outputs": [
        {
          "output_type": "stream",
          "name": "stdout",
          "text": [
            "original string: my name is abid ali\n"
          ]
        }
      ]
    },
    {
      "cell_type": "code",
      "source": [
        "vowels = ['a', 'e', 'i', 'o', 'u']                       # Step 2: Define vowels in a list\n",
        "vowel_count = 0                                         # Step 3: Initialize a variable to keep count of vowels\n",
        "\n",
        "for ch in name:                                         # Step 4: Loop through each character in the string\n",
        "    for v in vowels:                                    # Loop through each vowel in the list\n",
        "        vowel_count = vowel_count + (ch == v)            # Compare the character with the vowel\n",
        "print(\"Number of vowels in the string:\", vowel_count)   # Step 5: Print the number of vowels in the string"
      ],
      "metadata": {
        "colab": {
          "base_uri": "https://localhost:8080/"
        },
        "id": "6H4p3Kf11-hs",
        "outputId": "1d24db56-ef0e-4d41-c1fd-a01e78828bac"
      },
      "execution_count": null,
      "outputs": [
        {
          "output_type": "stream",
          "name": "stdout",
          "text": [
            "Number of vowels in the string: 7\n"
          ]
        }
      ]
    },
    {
      "cell_type": "markdown",
      "source": [
        "# Question 04.\n",
        "# Discount Calculator\n",
        "\n",
        "You have a list of product prices (floats), e.g. [19.99, 5.50, 100.0].\n",
        "\n",
        "Apply a 15% discount to each price and store the new prices in a separate list.\n",
        "\n",
        "Then print original list, discounted list and each original and discounted price side by side."
      ],
      "metadata": {
        "id": "cmN78RKB4vvM"
      }
    },
    {
      "cell_type": "code",
      "source": [
        "price= [19.99, 5.50, 100.0]"
      ],
      "metadata": {
        "id": "c9jj3T8D49EE"
      },
      "execution_count": null,
      "outputs": []
    },
    {
      "cell_type": "code",
      "source": [
        "# Step 1: Define original prices\n",
        "prices = [19.99, 5.50, 100.0]\n",
        "\n",
        "# Step 2: Create empty list to store discounted prices\n",
        "discounted_prices = []\n",
        "\n",
        "# Step 3: Apply 15% discount\n",
        "for price in prices:\n",
        "    discounted_price = price - (price * 0.15)\n",
        "    discounted_prices.append(discounted_price)\n",
        "\n",
        "# Step 4: Print original and discounted lists\n",
        "print(\"Original prices:\", prices)\n",
        "print(\"Discounted prices:\", discounted_prices)\n",
        "\n",
        "# Step 5: Print side-by-side comparison\n",
        "print(\"\\nOriginal and Discounted Prices:\")\n",
        "for i in range(len(prices)):\n",
        "    print(\"Original:\", prices[i], \"\\tDiscounted:\", discounted_prices[i])\n"
      ],
      "metadata": {
        "colab": {
          "base_uri": "https://localhost:8080/"
        },
        "id": "W__S0kQr-fd7",
        "outputId": "9c8d138a-2f4a-49d2-c6aa-1cb9b96b3bf4"
      },
      "execution_count": null,
      "outputs": [
        {
          "output_type": "stream",
          "name": "stdout",
          "text": [
            "Original prices: [19.99, 5.5, 100.0]\n",
            "Discounted prices: [16.9915, 4.675, 85.0]\n",
            "\n",
            "Original and Discounted Prices:\n",
            "Original: 19.99 \tDiscounted: 16.9915\n",
            "Original: 5.5 \tDiscounted: 4.675\n",
            "Original: 100.0 \tDiscounted: 85.0\n"
          ]
        }
      ]
    },
    {
      "cell_type": "markdown",
      "source": [
        "# Question 05.\n",
        "# Phone Number Formatter\n",
        "\n",
        "You have a list of 11-digit strings like [\"03123456789\", \"03001234567\"]. Convert each into the format \"+92-XXX-XXXXXXX\" and print them. Print Original and Formatted number side by side."
      ],
      "metadata": {
        "id": "xS4Jvhjt_UWI"
      }
    },
    {
      "cell_type": "code",
      "source": [
        "# Step 1: List of original phone numbers\n",
        "phone_numbers = [\"03123456789\", \"03001234567\"]\n",
        "\n",
        "# Step 2: Empty list to store formatted numbers\n",
        "formatted_numbers = []\n",
        "\n",
        "# Step 3: Loop through each number and format it\n",
        "for number in phone_numbers:\n",
        "    formatted = \"+92-\" + number[1:4] + \"-\" + number[4:]\n",
        "    formatted_numbers.append(formatted)\n",
        "\n",
        "# Step 4: Print both original and formatted numbers\n",
        "print(\"Original\\t\\tFormatted\")\n",
        "for i in range(len(phone_numbers)):\n",
        "    print(phone_numbers[i], \"\\t\", formatted_numbers[i])"
      ],
      "metadata": {
        "colab": {
          "base_uri": "https://localhost:8080/"
        },
        "id": "b7e36CU3_xMM",
        "outputId": "d872d644-fca6-4020-bb5d-b2e6aeff84f9"
      },
      "execution_count": null,
      "outputs": [
        {
          "output_type": "stream",
          "name": "stdout",
          "text": [
            "Original\t\tFormatted\n",
            "03123456789 \t +92-312-3456789\n",
            "03001234567 \t +92-300-1234567\n"
          ]
        }
      ]
    },
    {
      "cell_type": "markdown",
      "source": [
        "## Question 06.\n",
        "# Score Statistics\n",
        "You have a tuple of exam scores, e.g. (72, 85, 91, 58, 76).\n",
        "print the provided tuple\n",
        "Convert it to a list and print it.\n",
        "Compute and print the minimum, maximum, and average score."
      ],
      "metadata": {
        "id": "aYOnDdSZAYD4"
      }
    },
    {
      "cell_type": "code",
      "source": [
        "# Original Tuple of Scores\n",
        "scores = (72, 85, 91, 58, 76)\n",
        "print(\"Original Tuple:\", scores)\n",
        "\n",
        "# Convert tuple to list\n",
        "scores_list = list(scores)\n",
        "print(\"Converted List:\", scores_list)\n",
        "\n",
        "# Calculate min, max, and average\n",
        "minimum = min(scores_list)\n",
        "maximum = max(scores_list)\n",
        "average = sum(scores_list) / len(scores_list)\n",
        "\n",
        "# Print results\n",
        "print(\"Minimum Score:\", minimum)\n",
        "print(\"Maximum Score:\", maximum)\n",
        "print(\"Average Score:\", average)\n"
      ],
      "metadata": {
        "colab": {
          "base_uri": "https://localhost:8080/"
        },
        "id": "pmV_JTVfAfXr",
        "outputId": "8abaeee1-540b-4484-c75a-3d38a78ccdd4"
      },
      "execution_count": null,
      "outputs": [
        {
          "output_type": "stream",
          "name": "stdout",
          "text": [
            "Original Tuple: (72, 85, 91, 58, 76)\n",
            "Converted List: [72, 85, 91, 58, 76]\n",
            "Minimum Score: 58\n",
            "Maximum Score: 91\n",
            "Average Score: 76.4\n"
          ]
        }
      ]
    },
    {
      "cell_type": "markdown",
      "source": [
        "# Question 07.\n",
        "# Reverse Each Word in a Sentence\n",
        "Given a sentence string, reverse each word individually but keep the word order.\n",
        "print the original sentence\n",
        "print the formatted sentence"
      ],
      "metadata": {
        "id": "ZkfvBDObJVXQ"
      }
    },
    {
      "cell_type": "code",
      "source": [
        "# Original sentence\n",
        "sentence = \"my name is abid ali\"\n",
        "print(\"Original Sentence:\", sentence)\n",
        "\n",
        "# Step 1: Split the sentence into words\n",
        "words = sentence.split()\n",
        "\n",
        "# Step 2: Reverse each word using a loop\n",
        "reversed_words = []  # empty list to store reversed words\n",
        "for word in words:\n",
        "    reversed_word = \"\"  # initialize empty reversed word\n",
        "    for i in range(len(word) - 1, -1, -1):\n",
        "        reversed_word = reversed_word + word[i]\n",
        "    reversed_words.append(reversed_word)  # add to the list\n",
        "\n",
        "# Step 3: Join the reversed words back into a sentence\n",
        "formatted_sentence = \" \".join(reversed_words)\n",
        "\n",
        "# Step 4: Print the result\n",
        "print(\"Formatted Sentence:\", formatted_sentence)"
      ],
      "metadata": {
        "colab": {
          "base_uri": "https://localhost:8080/"
        },
        "id": "r0ugxsVjJcoO",
        "outputId": "edf9419f-6e73-4c38-c159-61505a0089c4"
      },
      "execution_count": null,
      "outputs": [
        {
          "output_type": "stream",
          "name": "stdout",
          "text": [
            "Original Sentence: my name is abid ali\n",
            "Formatted Sentence: ym eman si diba ila\n"
          ]
        }
      ]
    },
    {
      "cell_type": "markdown",
      "source": [
        "# Question 08.\n",
        "# Running Sum List\n",
        "From a given list create a list where each element is the sum of all previous elements (inclusive). Print both the lists."
      ],
      "metadata": {
        "id": "pnpHGXN6JxwT"
      }
    },
    {
      "cell_type": "code",
      "source": [
        "# Original list of numbers\n",
        "numbers = [1, 2, 3, 4, 5]\n",
        "print(\"Original List:\", numbers)\n",
        "\n",
        "# Create a new list for running sum\n",
        "running_sum = []\n",
        "\n",
        "# Variable to keep track of the current sum\n",
        "current_sum = 0\n",
        "\n",
        "# Loop through the list to calculate running sum\n",
        "for num in numbers:\n",
        "    current_sum = current_sum + num\n",
        "    running_sum.append(current_sum)\n",
        "\n",
        "# Print the result\n",
        "print(\"Running Sum List:\", running_sum)"
      ],
      "metadata": {
        "colab": {
          "base_uri": "https://localhost:8080/"
        },
        "id": "c1n76GdKJ4hS",
        "outputId": "932b1aa9-7811-4663-81e1-6815a7463775"
      },
      "execution_count": null,
      "outputs": [
        {
          "output_type": "stream",
          "name": "stdout",
          "text": [
            "Original List: [1, 2, 3, 4, 5]\n",
            "Running Sum List: [1, 3, 6, 10, 15]\n"
          ]
        }
      ]
    },
    {
      "cell_type": "markdown",
      "source": [
        "# Question 09.\n",
        "# Interleave Two Lists\n",
        "Combine two equal-length lists into a single one by alternating elements.\n",
        "Input: [1, 2, 3] and ['a', 'b', 'c']\n",
        "Output: [1, 'a', 2, 'b', 3, 'c']\n",
        "Print all three lists."
      ],
      "metadata": {
        "id": "UlKnmYGWKLgS"
      }
    },
    {
      "cell_type": "code",
      "source": [
        "# Step 1: Define the two lists\n",
        "list1 = [1, 2, 3]\n",
        "list2 = ['a', 'b', 'c']\n",
        "\n",
        "# Step 2: Create an empty list to store the interleaved result\n",
        "interleaved_list = []\n",
        "\n",
        "# Step 3: Use a loop to alternate elements\n",
        "for i in range(len(list1)):\n",
        "    interleaved_list.append(list1[i])\n",
        "    interleaved_list.append(list2[i])\n",
        "\n",
        "# Step 4: Print all lists\n",
        "print(\"List 1:\", list1)\n",
        "print(\"List 2:\", list2)\n",
        "print(\"Interleaved List:\", interleaved_list)\n"
      ],
      "metadata": {
        "colab": {
          "base_uri": "https://localhost:8080/"
        },
        "id": "oBllWc6OKRIp",
        "outputId": "0499687e-bcb7-4004-e093-e4c06f2610e3"
      },
      "execution_count": null,
      "outputs": [
        {
          "output_type": "stream",
          "name": "stdout",
          "text": [
            "List 1: [1, 2, 3]\n",
            "List 2: ['a', 'b', 'c']\n",
            "Interleaved List: [1, 'a', 2, 'b', 3, 'c']\n"
          ]
        }
      ]
    },
    {
      "cell_type": "markdown",
      "source": [
        "# Question 10.\n",
        "# Repeat Letters\n",
        "\n",
        "Given a string, return a new string where each letter is repeated twice. Print both the strings"
      ],
      "metadata": {
        "id": "hRc575p7Kq0Q"
      }
    },
    {
      "cell_type": "code",
      "source": [
        "original_string = \"hello\"                              # Step 1: Define the original string\n",
        "repeated_string = \"\"                                  # Step 2: Create an empty string to store the result\n",
        "\n",
        "for ch in original_string:                            # Step 3: Loop through each character and repeat it twice\n",
        "    repeated_string = repeated_string + ch + ch\n",
        "\n",
        "print(\"Original String:\", original_string)        # Step 4: Print both strings\n",
        "print(\"Repeated String:\", repeated_string)"
      ],
      "metadata": {
        "colab": {
          "base_uri": "https://localhost:8080/"
        },
        "id": "e9lKyZdgKzbQ",
        "outputId": "92dea209-dd08-42b6-9376-c4299469d5b8"
      },
      "execution_count": null,
      "outputs": [
        {
          "output_type": "stream",
          "name": "stdout",
          "text": [
            "Original String: hello\n",
            "Repeated String: hheelllloo\n"
          ]
        }
      ]
    },
    {
      "cell_type": "markdown",
      "source": [
        "# Submitted BY:\n",
        "\n",
        "# Name        :             Abid ALI\n",
        "\n",
        "ROLL NO     : PIAIC       256874"
      ],
      "metadata": {
        "id": "Wk-ohakILijU"
      }
    }
  ]
}